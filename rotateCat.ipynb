{
 "cells": [
  {
   "cell_type": "code",
   "execution_count": 1,
   "id": "74d2424d-5a08-4f2d-b3a3-4a6febbaf866",
   "metadata": {},
   "outputs": [
    {
     "data": {
      "application/vnd.jupyter.widget-view+json": {
       "model_id": "7f41d62748164e788f1c58daf6adcc03",
       "version_major": 2,
       "version_minor": 0
      },
      "text/plain": [
       "interactive(children=(FloatSlider(value=0.0, description='Rotation Angle', max=3.141592653589793, step=0.01), …"
      ]
     },
     "metadata": {},
     "output_type": "display_data"
    }
   ],
   "source": [
    "import numpy as np\n",
    "import matplotlib.pyplot as plt\n",
    "from ipywidgets import interact, FloatSlider, IntSlider\n",
    "\n",
    "# Define the catenary function in 2D\n",
    "def catenary_2d(x, a):\n",
    "    return a * np.cosh(x / a)\n",
    "\n",
    "# Function to plot a rotated hexagon with catenary curves\n",
    "def plot_rotated_hexagon(ax, x_offset, y_offset, rotation_angle, a=1,num_points=10):#<10=tooLow\n",
    "    x_range = np.linspace(-1.5, 1.5, num_points)\n",
    "    y_catenary = catenary_2d(x_range, a)\n",
    "    angles = np.linspace(0, 2 * np.pi, 7)\n",
    "    for angle in angles[:-1]:\n",
    "        x_shifted = (x_range * np.cos(angle + rotation_angle) - y_catenary * np.sin(angle + rotation_angle)) + x_offset\n",
    "        y_shifted = (x_range * np.sin(angle + rotation_angle) + y_catenary * np.cos(angle + rotation_angle)) + y_offset\n",
    "        ax.plot(x_shifted, y_shifted, 'b')\n",
    "\n",
    "# Function to plot a grid of rotated hexagons\n",
    "def plot_grid_of_rotated_hexagons(rotation_angle=0, spacing=np.pi, grid_size=2):\n",
    "    fig, ax = plt.subplots(figsize=(8, 8))\n",
    "    for i in range(-grid_size, grid_size+1):\n",
    "        for j in range(-grid_size, grid_size+1):\n",
    "            x_offset = i * spacing * 1 #horizontal Spacing\n",
    "            y_offset = j * spacing * np.sin(np.pi / 3)  # Vertical spacing adjusted for hexagon tiling\n",
    "            if j % 2 != 0:\n",
    "                x_offset += spacing * 0.75  # Offset every other row for proper hexagonal tiling\n",
    "            plot_rotated_hexagon(ax, x_offset, y_offset, rotation_angle)\n",
    "    ax.set_title(f\"Rotation Angle: {np.degrees(rotation_angle):.0f} degrees, Spacing: {spacing:.2f}\")\n",
    "    ax.set_aspect('equal')\n",
    "    ax.axis('off')\n",
    "    plt.show()\n",
    "\n",
    "# Interactive plot\n",
    "interact(\n",
    "        plot_grid_of_rotated_hexagons,\n",
    "         rotation_angle=FloatSlider(min=0, max=1*np.pi, step=0.01, value=0, description='Rotation Angle'),\n",
    "         spacing=FloatSlider(min=0.5, max=5, step=0.1, value=np.pi, description='Spacing'),\n",
    "         grid_size=IntSlider(min=1, max=10, step=1, value=2, description='Grid Size'));"
   ]
  },
  {
   "cell_type": "code",
   "execution_count": null,
   "id": "ab18ebdc-ba8b-46f6-84e4-28543bcb0654",
   "metadata": {},
   "outputs": [],
   "source": [
    "5\n"
   ]
  }
 ],
 "metadata": {
  "kernelspec": {
   "display_name": "Python 3 (ipykernel)",
   "language": "python",
   "name": "python3"
  },
  "language_info": {
   "codemirror_mode": {
    "name": "ipython",
    "version": 3
   },
   "file_extension": ".py",
   "mimetype": "text/x-python",
   "name": "python",
   "nbconvert_exporter": "python",
   "pygments_lexer": "ipython3",
   "version": "3.12.4"
  }
 },
 "nbformat": 4,
 "nbformat_minor": 5
}
